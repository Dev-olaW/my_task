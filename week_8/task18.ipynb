{
 "cells": [
  {
   "cell_type": "code",
   "execution_count": 1,
   "id": "ea863a50",
   "metadata": {},
   "outputs": [],
   "source": [
    "import numpy as np\n",
    "import pandas as pd\n",
    "import matplotlib.pyplot as plt\n",
    "import warnings"
   ]
  },
  {
   "cell_type": "markdown",
   "id": "67aa3991",
   "metadata": {},
   "source": [
    "##### 1. Data Injection"
   ]
  },
  {
   "cell_type": "code",
   "execution_count": 2,
   "id": "789938ca",
   "metadata": {},
   "outputs": [],
   "source": [
    "possium = pd.read_csv(\"possum.csv\")\n",
    "\n",
    "# The data has been injected succesfully"
   ]
  },
  {
   "cell_type": "markdown",
   "id": "4250c32f",
   "metadata": {},
   "source": [
    "##### 2. PDA (Preliminary Data Analysis)\n",
    "\n",
    "##### It consists of Data Structure, the type, head, shape....."
   ]
  },
  {
   "cell_type": "code",
   "execution_count": 3,
   "id": "5d3d182c",
   "metadata": {},
   "outputs": [
    {
     "data": {
      "text/html": [
       "<div>\n",
       "<style scoped>\n",
       "    .dataframe tbody tr th:only-of-type {\n",
       "        vertical-align: middle;\n",
       "    }\n",
       "\n",
       "    .dataframe tbody tr th {\n",
       "        vertical-align: top;\n",
       "    }\n",
       "\n",
       "    .dataframe thead th {\n",
       "        text-align: right;\n",
       "    }\n",
       "</style>\n",
       "<table border=\"1\" class=\"dataframe\">\n",
       "  <thead>\n",
       "    <tr style=\"text-align: right;\">\n",
       "      <th></th>\n",
       "      <th>case</th>\n",
       "      <th>site</th>\n",
       "      <th>Pop</th>\n",
       "      <th>sex</th>\n",
       "      <th>age</th>\n",
       "      <th>hdlngth</th>\n",
       "      <th>skullw</th>\n",
       "      <th>totlngth</th>\n",
       "      <th>taill</th>\n",
       "      <th>footlgth</th>\n",
       "      <th>earconch</th>\n",
       "      <th>eye</th>\n",
       "      <th>chest</th>\n",
       "      <th>belly</th>\n",
       "    </tr>\n",
       "  </thead>\n",
       "  <tbody>\n",
       "    <tr>\n",
       "      <th>0</th>\n",
       "      <td>1</td>\n",
       "      <td>1</td>\n",
       "      <td>Vic</td>\n",
       "      <td>m</td>\n",
       "      <td>8.0</td>\n",
       "      <td>94.1</td>\n",
       "      <td>60.4</td>\n",
       "      <td>89.0</td>\n",
       "      <td>36.0</td>\n",
       "      <td>74.5</td>\n",
       "      <td>54.5</td>\n",
       "      <td>15.2</td>\n",
       "      <td>28.0</td>\n",
       "      <td>36.0</td>\n",
       "    </tr>\n",
       "    <tr>\n",
       "      <th>1</th>\n",
       "      <td>2</td>\n",
       "      <td>1</td>\n",
       "      <td>Vic</td>\n",
       "      <td>f</td>\n",
       "      <td>6.0</td>\n",
       "      <td>92.5</td>\n",
       "      <td>57.6</td>\n",
       "      <td>91.5</td>\n",
       "      <td>36.5</td>\n",
       "      <td>72.5</td>\n",
       "      <td>51.2</td>\n",
       "      <td>16.0</td>\n",
       "      <td>28.5</td>\n",
       "      <td>33.0</td>\n",
       "    </tr>\n",
       "    <tr>\n",
       "      <th>2</th>\n",
       "      <td>3</td>\n",
       "      <td>1</td>\n",
       "      <td>Vic</td>\n",
       "      <td>f</td>\n",
       "      <td>6.0</td>\n",
       "      <td>94.0</td>\n",
       "      <td>60.0</td>\n",
       "      <td>95.5</td>\n",
       "      <td>39.0</td>\n",
       "      <td>75.4</td>\n",
       "      <td>51.9</td>\n",
       "      <td>15.5</td>\n",
       "      <td>30.0</td>\n",
       "      <td>34.0</td>\n",
       "    </tr>\n",
       "    <tr>\n",
       "      <th>3</th>\n",
       "      <td>4</td>\n",
       "      <td>1</td>\n",
       "      <td>Vic</td>\n",
       "      <td>f</td>\n",
       "      <td>6.0</td>\n",
       "      <td>93.2</td>\n",
       "      <td>57.1</td>\n",
       "      <td>92.0</td>\n",
       "      <td>38.0</td>\n",
       "      <td>76.1</td>\n",
       "      <td>52.2</td>\n",
       "      <td>15.2</td>\n",
       "      <td>28.0</td>\n",
       "      <td>34.0</td>\n",
       "    </tr>\n",
       "    <tr>\n",
       "      <th>4</th>\n",
       "      <td>5</td>\n",
       "      <td>1</td>\n",
       "      <td>Vic</td>\n",
       "      <td>f</td>\n",
       "      <td>2.0</td>\n",
       "      <td>91.5</td>\n",
       "      <td>56.3</td>\n",
       "      <td>85.5</td>\n",
       "      <td>36.0</td>\n",
       "      <td>71.0</td>\n",
       "      <td>53.2</td>\n",
       "      <td>15.1</td>\n",
       "      <td>28.5</td>\n",
       "      <td>33.0</td>\n",
       "    </tr>\n",
       "  </tbody>\n",
       "</table>\n",
       "</div>"
      ],
      "text/plain": [
       "   case  site  Pop sex  age  hdlngth  skullw  totlngth  taill  footlgth  \\\n",
       "0     1     1  Vic   m  8.0     94.1    60.4      89.0   36.0      74.5   \n",
       "1     2     1  Vic   f  6.0     92.5    57.6      91.5   36.5      72.5   \n",
       "2     3     1  Vic   f  6.0     94.0    60.0      95.5   39.0      75.4   \n",
       "3     4     1  Vic   f  6.0     93.2    57.1      92.0   38.0      76.1   \n",
       "4     5     1  Vic   f  2.0     91.5    56.3      85.5   36.0      71.0   \n",
       "\n",
       "   earconch   eye  chest  belly  \n",
       "0      54.5  15.2   28.0   36.0  \n",
       "1      51.2  16.0   28.5   33.0  \n",
       "2      51.9  15.5   30.0   34.0  \n",
       "3      52.2  15.2   28.0   34.0  \n",
       "4      53.2  15.1   28.5   33.0  "
      ]
     },
     "execution_count": 3,
     "metadata": {},
     "output_type": "execute_result"
    }
   ],
   "source": [
    "possium.head()"
   ]
  },
  {
   "cell_type": "code",
   "execution_count": 4,
   "id": "ce31de27",
   "metadata": {},
   "outputs": [
    {
     "data": {
      "text/html": [
       "<div>\n",
       "<style scoped>\n",
       "    .dataframe tbody tr th:only-of-type {\n",
       "        vertical-align: middle;\n",
       "    }\n",
       "\n",
       "    .dataframe tbody tr th {\n",
       "        vertical-align: top;\n",
       "    }\n",
       "\n",
       "    .dataframe thead th {\n",
       "        text-align: right;\n",
       "    }\n",
       "</style>\n",
       "<table border=\"1\" class=\"dataframe\">\n",
       "  <thead>\n",
       "    <tr style=\"text-align: right;\">\n",
       "      <th></th>\n",
       "      <th>case</th>\n",
       "      <th>site</th>\n",
       "      <th>Pop</th>\n",
       "      <th>sex</th>\n",
       "      <th>age</th>\n",
       "      <th>hdlngth</th>\n",
       "      <th>skullw</th>\n",
       "      <th>totlngth</th>\n",
       "      <th>taill</th>\n",
       "      <th>footlgth</th>\n",
       "      <th>earconch</th>\n",
       "      <th>eye</th>\n",
       "      <th>chest</th>\n",
       "      <th>belly</th>\n",
       "    </tr>\n",
       "  </thead>\n",
       "  <tbody>\n",
       "    <tr>\n",
       "      <th>99</th>\n",
       "      <td>100</td>\n",
       "      <td>7</td>\n",
       "      <td>other</td>\n",
       "      <td>m</td>\n",
       "      <td>1.0</td>\n",
       "      <td>89.5</td>\n",
       "      <td>56.0</td>\n",
       "      <td>81.5</td>\n",
       "      <td>36.5</td>\n",
       "      <td>66.0</td>\n",
       "      <td>46.8</td>\n",
       "      <td>14.8</td>\n",
       "      <td>23.0</td>\n",
       "      <td>27.0</td>\n",
       "    </tr>\n",
       "    <tr>\n",
       "      <th>100</th>\n",
       "      <td>101</td>\n",
       "      <td>7</td>\n",
       "      <td>other</td>\n",
       "      <td>m</td>\n",
       "      <td>1.0</td>\n",
       "      <td>88.6</td>\n",
       "      <td>54.7</td>\n",
       "      <td>82.5</td>\n",
       "      <td>39.0</td>\n",
       "      <td>64.4</td>\n",
       "      <td>48.0</td>\n",
       "      <td>14.0</td>\n",
       "      <td>25.0</td>\n",
       "      <td>33.0</td>\n",
       "    </tr>\n",
       "    <tr>\n",
       "      <th>101</th>\n",
       "      <td>102</td>\n",
       "      <td>7</td>\n",
       "      <td>other</td>\n",
       "      <td>f</td>\n",
       "      <td>6.0</td>\n",
       "      <td>92.4</td>\n",
       "      <td>55.0</td>\n",
       "      <td>89.0</td>\n",
       "      <td>38.0</td>\n",
       "      <td>63.5</td>\n",
       "      <td>45.4</td>\n",
       "      <td>13.0</td>\n",
       "      <td>25.0</td>\n",
       "      <td>30.0</td>\n",
       "    </tr>\n",
       "    <tr>\n",
       "      <th>102</th>\n",
       "      <td>103</td>\n",
       "      <td>7</td>\n",
       "      <td>other</td>\n",
       "      <td>m</td>\n",
       "      <td>4.0</td>\n",
       "      <td>91.5</td>\n",
       "      <td>55.2</td>\n",
       "      <td>82.5</td>\n",
       "      <td>36.5</td>\n",
       "      <td>62.9</td>\n",
       "      <td>45.9</td>\n",
       "      <td>15.4</td>\n",
       "      <td>25.0</td>\n",
       "      <td>29.0</td>\n",
       "    </tr>\n",
       "    <tr>\n",
       "      <th>103</th>\n",
       "      <td>104</td>\n",
       "      <td>7</td>\n",
       "      <td>other</td>\n",
       "      <td>f</td>\n",
       "      <td>3.0</td>\n",
       "      <td>93.6</td>\n",
       "      <td>59.9</td>\n",
       "      <td>89.0</td>\n",
       "      <td>40.0</td>\n",
       "      <td>67.6</td>\n",
       "      <td>46.0</td>\n",
       "      <td>14.8</td>\n",
       "      <td>28.5</td>\n",
       "      <td>33.5</td>\n",
       "    </tr>\n",
       "  </tbody>\n",
       "</table>\n",
       "</div>"
      ],
      "text/plain": [
       "     case  site    Pop sex  age  hdlngth  skullw  totlngth  taill  footlgth  \\\n",
       "99    100     7  other   m  1.0     89.5    56.0      81.5   36.5      66.0   \n",
       "100   101     7  other   m  1.0     88.6    54.7      82.5   39.0      64.4   \n",
       "101   102     7  other   f  6.0     92.4    55.0      89.0   38.0      63.5   \n",
       "102   103     7  other   m  4.0     91.5    55.2      82.5   36.5      62.9   \n",
       "103   104     7  other   f  3.0     93.6    59.9      89.0   40.0      67.6   \n",
       "\n",
       "     earconch   eye  chest  belly  \n",
       "99       46.8  14.8   23.0   27.0  \n",
       "100      48.0  14.0   25.0   33.0  \n",
       "101      45.4  13.0   25.0   30.0  \n",
       "102      45.9  15.4   25.0   29.0  \n",
       "103      46.0  14.8   28.5   33.5  "
      ]
     },
     "execution_count": 4,
     "metadata": {},
     "output_type": "execute_result"
    }
   ],
   "source": [
    "possium.tail()"
   ]
  },
  {
   "cell_type": "code",
   "execution_count": 5,
   "id": "0ad51931",
   "metadata": {},
   "outputs": [
    {
     "data": {
      "text/plain": [
       "(104, 14)"
      ]
     },
     "execution_count": 5,
     "metadata": {},
     "output_type": "execute_result"
    }
   ],
   "source": [
    "possium.shape"
   ]
  },
  {
   "cell_type": "code",
   "execution_count": 6,
   "id": "5900d93c",
   "metadata": {},
   "outputs": [
    {
     "name": "stdout",
     "output_type": "stream",
     "text": [
      "<class 'pandas.core.frame.DataFrame'>\n",
      "RangeIndex: 104 entries, 0 to 103\n",
      "Data columns (total 14 columns):\n",
      " #   Column    Non-Null Count  Dtype  \n",
      "---  ------    --------------  -----  \n",
      " 0   case      104 non-null    int64  \n",
      " 1   site      104 non-null    int64  \n",
      " 2   Pop       104 non-null    object \n",
      " 3   sex       104 non-null    object \n",
      " 4   age       102 non-null    float64\n",
      " 5   hdlngth   104 non-null    float64\n",
      " 6   skullw    104 non-null    float64\n",
      " 7   totlngth  104 non-null    float64\n",
      " 8   taill     104 non-null    float64\n",
      " 9   footlgth  103 non-null    float64\n",
      " 10  earconch  104 non-null    float64\n",
      " 11  eye       104 non-null    float64\n",
      " 12  chest     104 non-null    float64\n",
      " 13  belly     104 non-null    float64\n",
      "dtypes: float64(10), int64(2), object(2)\n",
      "memory usage: 11.5+ KB\n"
     ]
    }
   ],
   "source": [
    "possium.info()"
   ]
  },
  {
   "cell_type": "markdown",
   "id": "320b0f5e",
   "metadata": {},
   "source": [
    "The possium data consists of 104 entries, (0-103) rows, 14 columns "
   ]
  },
  {
   "cell_type": "code",
   "execution_count": 7,
   "id": "52d24d83",
   "metadata": {},
   "outputs": [
    {
     "data": {
      "text/plain": [
       "case        0\n",
       "site        0\n",
       "Pop         0\n",
       "sex         0\n",
       "age         2\n",
       "hdlngth     0\n",
       "skullw      0\n",
       "totlngth    0\n",
       "taill       0\n",
       "footlgth    1\n",
       "earconch    0\n",
       "eye         0\n",
       "chest       0\n",
       "belly       0\n",
       "dtype: int64"
      ]
     },
     "execution_count": 7,
     "metadata": {},
     "output_type": "execute_result"
    }
   ],
   "source": [
    "### missing values\n",
    "possium.isna().sum()"
   ]
  },
  {
   "cell_type": "markdown",
   "id": "84721fd9",
   "metadata": {},
   "source": [
    "There are 2 missing values in the data-age column, and 1n missing value in the data-footlgth column"
   ]
  },
  {
   "cell_type": "code",
   "execution_count": 8,
   "id": "948fa580",
   "metadata": {},
   "outputs": [
    {
     "data": {
      "text/html": [
       "<div>\n",
       "<style scoped>\n",
       "    .dataframe tbody tr th:only-of-type {\n",
       "        vertical-align: middle;\n",
       "    }\n",
       "\n",
       "    .dataframe tbody tr th {\n",
       "        vertical-align: top;\n",
       "    }\n",
       "\n",
       "    .dataframe thead th {\n",
       "        text-align: right;\n",
       "    }\n",
       "</style>\n",
       "<table border=\"1\" class=\"dataframe\">\n",
       "  <thead>\n",
       "    <tr style=\"text-align: right;\">\n",
       "      <th></th>\n",
       "      <th>case</th>\n",
       "      <th>site</th>\n",
       "      <th>age</th>\n",
       "      <th>hdlngth</th>\n",
       "      <th>skullw</th>\n",
       "      <th>totlngth</th>\n",
       "      <th>taill</th>\n",
       "      <th>footlgth</th>\n",
       "      <th>earconch</th>\n",
       "      <th>eye</th>\n",
       "      <th>chest</th>\n",
       "      <th>belly</th>\n",
       "    </tr>\n",
       "  </thead>\n",
       "  <tbody>\n",
       "    <tr>\n",
       "      <th>count</th>\n",
       "      <td>104.000000</td>\n",
       "      <td>104.000000</td>\n",
       "      <td>102.000000</td>\n",
       "      <td>104.000000</td>\n",
       "      <td>104.000000</td>\n",
       "      <td>104.000000</td>\n",
       "      <td>104.000000</td>\n",
       "      <td>103.000000</td>\n",
       "      <td>104.000000</td>\n",
       "      <td>104.000000</td>\n",
       "      <td>104.000000</td>\n",
       "      <td>104.000000</td>\n",
       "    </tr>\n",
       "    <tr>\n",
       "      <th>mean</th>\n",
       "      <td>52.500000</td>\n",
       "      <td>3.625000</td>\n",
       "      <td>3.833333</td>\n",
       "      <td>92.602885</td>\n",
       "      <td>56.883654</td>\n",
       "      <td>87.088462</td>\n",
       "      <td>37.009615</td>\n",
       "      <td>68.459223</td>\n",
       "      <td>48.130769</td>\n",
       "      <td>15.046154</td>\n",
       "      <td>27.000000</td>\n",
       "      <td>32.586538</td>\n",
       "    </tr>\n",
       "    <tr>\n",
       "      <th>std</th>\n",
       "      <td>30.166206</td>\n",
       "      <td>2.349086</td>\n",
       "      <td>1.909244</td>\n",
       "      <td>3.573349</td>\n",
       "      <td>3.113426</td>\n",
       "      <td>4.310549</td>\n",
       "      <td>1.959518</td>\n",
       "      <td>4.395306</td>\n",
       "      <td>4.109380</td>\n",
       "      <td>1.050374</td>\n",
       "      <td>2.045597</td>\n",
       "      <td>2.761949</td>\n",
       "    </tr>\n",
       "    <tr>\n",
       "      <th>min</th>\n",
       "      <td>1.000000</td>\n",
       "      <td>1.000000</td>\n",
       "      <td>1.000000</td>\n",
       "      <td>82.500000</td>\n",
       "      <td>50.000000</td>\n",
       "      <td>75.000000</td>\n",
       "      <td>32.000000</td>\n",
       "      <td>60.300000</td>\n",
       "      <td>40.300000</td>\n",
       "      <td>12.800000</td>\n",
       "      <td>22.000000</td>\n",
       "      <td>25.000000</td>\n",
       "    </tr>\n",
       "    <tr>\n",
       "      <th>25%</th>\n",
       "      <td>26.750000</td>\n",
       "      <td>1.000000</td>\n",
       "      <td>2.250000</td>\n",
       "      <td>90.675000</td>\n",
       "      <td>54.975000</td>\n",
       "      <td>84.000000</td>\n",
       "      <td>35.875000</td>\n",
       "      <td>64.600000</td>\n",
       "      <td>44.800000</td>\n",
       "      <td>14.400000</td>\n",
       "      <td>25.500000</td>\n",
       "      <td>31.000000</td>\n",
       "    </tr>\n",
       "    <tr>\n",
       "      <th>50%</th>\n",
       "      <td>52.500000</td>\n",
       "      <td>3.000000</td>\n",
       "      <td>3.000000</td>\n",
       "      <td>92.800000</td>\n",
       "      <td>56.350000</td>\n",
       "      <td>88.000000</td>\n",
       "      <td>37.000000</td>\n",
       "      <td>68.000000</td>\n",
       "      <td>46.800000</td>\n",
       "      <td>14.900000</td>\n",
       "      <td>27.000000</td>\n",
       "      <td>32.500000</td>\n",
       "    </tr>\n",
       "    <tr>\n",
       "      <th>75%</th>\n",
       "      <td>78.250000</td>\n",
       "      <td>6.000000</td>\n",
       "      <td>5.000000</td>\n",
       "      <td>94.725000</td>\n",
       "      <td>58.100000</td>\n",
       "      <td>90.000000</td>\n",
       "      <td>38.000000</td>\n",
       "      <td>72.500000</td>\n",
       "      <td>52.000000</td>\n",
       "      <td>15.725000</td>\n",
       "      <td>28.000000</td>\n",
       "      <td>34.125000</td>\n",
       "    </tr>\n",
       "    <tr>\n",
       "      <th>max</th>\n",
       "      <td>104.000000</td>\n",
       "      <td>7.000000</td>\n",
       "      <td>9.000000</td>\n",
       "      <td>103.100000</td>\n",
       "      <td>68.600000</td>\n",
       "      <td>96.500000</td>\n",
       "      <td>43.000000</td>\n",
       "      <td>77.900000</td>\n",
       "      <td>56.200000</td>\n",
       "      <td>17.800000</td>\n",
       "      <td>32.000000</td>\n",
       "      <td>40.000000</td>\n",
       "    </tr>\n",
       "  </tbody>\n",
       "</table>\n",
       "</div>"
      ],
      "text/plain": [
       "             case        site         age     hdlngth      skullw    totlngth  \\\n",
       "count  104.000000  104.000000  102.000000  104.000000  104.000000  104.000000   \n",
       "mean    52.500000    3.625000    3.833333   92.602885   56.883654   87.088462   \n",
       "std     30.166206    2.349086    1.909244    3.573349    3.113426    4.310549   \n",
       "min      1.000000    1.000000    1.000000   82.500000   50.000000   75.000000   \n",
       "25%     26.750000    1.000000    2.250000   90.675000   54.975000   84.000000   \n",
       "50%     52.500000    3.000000    3.000000   92.800000   56.350000   88.000000   \n",
       "75%     78.250000    6.000000    5.000000   94.725000   58.100000   90.000000   \n",
       "max    104.000000    7.000000    9.000000  103.100000   68.600000   96.500000   \n",
       "\n",
       "            taill    footlgth    earconch         eye       chest       belly  \n",
       "count  104.000000  103.000000  104.000000  104.000000  104.000000  104.000000  \n",
       "mean    37.009615   68.459223   48.130769   15.046154   27.000000   32.586538  \n",
       "std      1.959518    4.395306    4.109380    1.050374    2.045597    2.761949  \n",
       "min     32.000000   60.300000   40.300000   12.800000   22.000000   25.000000  \n",
       "25%     35.875000   64.600000   44.800000   14.400000   25.500000   31.000000  \n",
       "50%     37.000000   68.000000   46.800000   14.900000   27.000000   32.500000  \n",
       "75%     38.000000   72.500000   52.000000   15.725000   28.000000   34.125000  \n",
       "max     43.000000   77.900000   56.200000   17.800000   32.000000   40.000000  "
      ]
     },
     "execution_count": 8,
     "metadata": {},
     "output_type": "execute_result"
    }
   ],
   "source": [
    "### descriptive statisics\n",
    "possium.describe()"
   ]
  },
  {
   "cell_type": "code",
   "execution_count": 9,
   "id": "d52d1867",
   "metadata": {},
   "outputs": [
    {
     "data": {
      "text/plain": [
       "np.int64(0)"
      ]
     },
     "execution_count": 9,
     "metadata": {},
     "output_type": "execute_result"
    }
   ],
   "source": [
    "### for duplicate\n",
    "possium.duplicated().sum()"
   ]
  },
  {
   "cell_type": "markdown",
   "id": "722f5d52",
   "metadata": {},
   "source": [
    "There's no duplicate column in our dataset"
   ]
  },
  {
   "cell_type": "code",
   "execution_count": 10,
   "id": "e76e0f6c",
   "metadata": {},
   "outputs": [
    {
     "data": {
      "text/plain": [
       "Index(['case', 'site', 'Pop', 'sex', 'age', 'hdlngth', 'skullw', 'totlngth',\n",
       "       'taill', 'footlgth', 'earconch', 'eye', 'chest', 'belly'],\n",
       "      dtype='object')"
      ]
     },
     "execution_count": 10,
     "metadata": {},
     "output_type": "execute_result"
    }
   ],
   "source": [
    "possium.columns"
   ]
  },
  {
   "cell_type": "code",
   "execution_count": 11,
   "id": "a72aee77",
   "metadata": {},
   "outputs": [
    {
     "data": {
      "text/plain": [
       "sex\n",
       "m    61\n",
       "f    43\n",
       "Name: count, dtype: int64"
      ]
     },
     "execution_count": 11,
     "metadata": {},
     "output_type": "execute_result"
    }
   ],
   "source": [
    "possium['sex'].value_counts()"
   ]
  },
  {
   "cell_type": "code",
   "execution_count": 12,
   "id": "572b9481",
   "metadata": {},
   "outputs": [
    {
     "data": {
      "text/plain": [
       "case        104\n",
       "site          7\n",
       "Pop           2\n",
       "sex           2\n",
       "age           9\n",
       "hdlngth      71\n",
       "skullw       64\n",
       "totlngth     34\n",
       "taill        19\n",
       "footlgth     75\n",
       "earconch     69\n",
       "eye          35\n",
       "chest        19\n",
       "belly        24\n",
       "dtype: int64"
      ]
     },
     "execution_count": 12,
     "metadata": {},
     "output_type": "execute_result"
    }
   ],
   "source": [
    "possium.nunique()"
   ]
  },
  {
   "cell_type": "code",
   "execution_count": 14,
   "id": "6b4157bf",
   "metadata": {},
   "outputs": [
    {
     "data": {
      "text/plain": [
       "<Axes: >"
      ]
     },
     "execution_count": 14,
     "metadata": {},
     "output_type": "execute_result"
    },
    {
     "data": {
      "image/png": "[encoded data removed]",
      "text/plain": [
       "<Figure size 640x480 with 1 Axes>"
      ]
     },
     "metadata": {},
     "output_type": "display_data"
    }
   ],
   "source": [
    "possium.nunique().sort_values(ascending= False).plot(kind='bar')"
   ]
  },
  {
   "cell_type": "code",
   "execution_count": 15,
   "id": "63dfa695",
   "metadata": {},
   "outputs": [
    {
     "data": {
      "text/plain": [
       "age\n",
       "3.0    27\n",
       "2.0    16\n",
       "4.0    14\n",
       "5.0    13\n",
       "6.0    12\n",
       "1.0    10\n",
       "7.0     7\n",
       "9.0     2\n",
       "8.0     1\n",
       "Name: count, dtype: int64"
      ]
     },
     "execution_count": 15,
     "metadata": {},
     "output_type": "execute_result"
    }
   ],
   "source": [
    "possium['age'].value_counts()"
   ]
  },
  {
   "cell_type": "markdown",
   "id": "eaa88068",
   "metadata": {},
   "source": [
    "##### 3. Cleaning"
   ]
  },
  {
   "cell_type": "code",
   "execution_count": null,
   "id": "c6d1843f",
   "metadata": {},
   "outputs": [],
   "source": [
    "# Fill missing value\n",
    "possium['age'].fillna(possium['age'].mean(), inplace= True)\n",
    "possium.isna().sum()"
   ]
  },
  {
   "cell_type": "code",
   "execution_count": 19,
   "id": "9a193f0f",
   "metadata": {},
   "outputs": [],
   "source": [
    "possium.fillna({'footlgth': 75.4}, inplace=True)"
   ]
  },
  {
   "cell_type": "code",
   "execution_count": 20,
   "id": "2b432046",
   "metadata": {},
   "outputs": [
    {
     "data": {
      "text/plain": [
       "case        0\n",
       "site        0\n",
       "Pop         0\n",
       "sex         0\n",
       "age         0\n",
       "hdlngth     0\n",
       "skullw      0\n",
       "totlngth    0\n",
       "taill       0\n",
       "footlgth    0\n",
       "earconch    0\n",
       "eye         0\n",
       "chest       0\n",
       "belly       0\n",
       "dtype: int64"
      ]
     },
     "execution_count": 20,
     "metadata": {},
     "output_type": "execute_result"
    }
   ],
   "source": [
    "possium.isna().sum()"
   ]
  },
  {
   "cell_type": "markdown",
   "id": "e654e300",
   "metadata": {},
   "source": [
    "#### 4. DDA. Descriptive Data Analysis"
   ]
  },
  {
   "cell_type": "markdown",
   "id": "f04c44b2",
   "metadata": {},
   "source": [
    "#### MEASURE OF CENTRE AND MEASURE OF SPREAD"
   ]
  },
  {
   "cell_type": "code",
   "execution_count": 21,
   "id": "49ed030a",
   "metadata": {},
   "outputs": [
    {
     "data": {
      "text/html": [
       "<div>\n",
       "<style scoped>\n",
       "    .dataframe tbody tr th:only-of-type {\n",
       "        vertical-align: middle;\n",
       "    }\n",
       "\n",
       "    .dataframe tbody tr th {\n",
       "        vertical-align: top;\n",
       "    }\n",
       "\n",
       "    .dataframe thead th {\n",
       "        text-align: right;\n",
       "    }\n",
       "</style>\n",
       "<table border=\"1\" class=\"dataframe\">\n",
       "  <thead>\n",
       "    <tr style=\"text-align: right;\">\n",
       "      <th></th>\n",
       "      <th>case</th>\n",
       "      <th>site</th>\n",
       "      <th>age</th>\n",
       "      <th>hdlngth</th>\n",
       "      <th>skullw</th>\n",
       "      <th>totlngth</th>\n",
       "      <th>taill</th>\n",
       "      <th>footlgth</th>\n",
       "      <th>earconch</th>\n",
       "      <th>eye</th>\n",
       "      <th>chest</th>\n",
       "      <th>belly</th>\n",
       "    </tr>\n",
       "  </thead>\n",
       "  <tbody>\n",
       "    <tr>\n",
       "      <th>count</th>\n",
       "      <td>104.0</td>\n",
       "      <td>104.0</td>\n",
       "      <td>104.0</td>\n",
       "      <td>104.0</td>\n",
       "      <td>104.0</td>\n",
       "      <td>104.0</td>\n",
       "      <td>104.0</td>\n",
       "      <td>104.0</td>\n",
       "      <td>104.0</td>\n",
       "      <td>104.0</td>\n",
       "      <td>104.0</td>\n",
       "      <td>104.0</td>\n",
       "    </tr>\n",
       "    <tr>\n",
       "      <th>mean</th>\n",
       "      <td>52.5</td>\n",
       "      <td>3.6</td>\n",
       "      <td>3.8</td>\n",
       "      <td>92.6</td>\n",
       "      <td>56.9</td>\n",
       "      <td>87.1</td>\n",
       "      <td>37.0</td>\n",
       "      <td>68.5</td>\n",
       "      <td>48.1</td>\n",
       "      <td>15.0</td>\n",
       "      <td>27.0</td>\n",
       "      <td>32.6</td>\n",
       "    </tr>\n",
       "    <tr>\n",
       "      <th>std</th>\n",
       "      <td>30.2</td>\n",
       "      <td>2.3</td>\n",
       "      <td>1.9</td>\n",
       "      <td>3.6</td>\n",
       "      <td>3.1</td>\n",
       "      <td>4.3</td>\n",
       "      <td>2.0</td>\n",
       "      <td>4.4</td>\n",
       "      <td>4.1</td>\n",
       "      <td>1.1</td>\n",
       "      <td>2.0</td>\n",
       "      <td>2.8</td>\n",
       "    </tr>\n",
       "    <tr>\n",
       "      <th>min</th>\n",
       "      <td>1.0</td>\n",
       "      <td>1.0</td>\n",
       "      <td>1.0</td>\n",
       "      <td>82.5</td>\n",
       "      <td>50.0</td>\n",
       "      <td>75.0</td>\n",
       "      <td>32.0</td>\n",
       "      <td>60.3</td>\n",
       "      <td>40.3</td>\n",
       "      <td>12.8</td>\n",
       "      <td>22.0</td>\n",
       "      <td>25.0</td>\n",
       "    </tr>\n",
       "    <tr>\n",
       "      <th>25%</th>\n",
       "      <td>26.8</td>\n",
       "      <td>1.0</td>\n",
       "      <td>2.8</td>\n",
       "      <td>90.7</td>\n",
       "      <td>55.0</td>\n",
       "      <td>84.0</td>\n",
       "      <td>35.9</td>\n",
       "      <td>64.6</td>\n",
       "      <td>44.8</td>\n",
       "      <td>14.4</td>\n",
       "      <td>25.5</td>\n",
       "      <td>31.0</td>\n",
       "    </tr>\n",
       "    <tr>\n",
       "      <th>50%</th>\n",
       "      <td>52.5</td>\n",
       "      <td>3.0</td>\n",
       "      <td>3.0</td>\n",
       "      <td>92.8</td>\n",
       "      <td>56.4</td>\n",
       "      <td>88.0</td>\n",
       "      <td>37.0</td>\n",
       "      <td>68.1</td>\n",
       "      <td>46.8</td>\n",
       "      <td>14.9</td>\n",
       "      <td>27.0</td>\n",
       "      <td>32.5</td>\n",
       "    </tr>\n",
       "    <tr>\n",
       "      <th>75%</th>\n",
       "      <td>78.2</td>\n",
       "      <td>6.0</td>\n",
       "      <td>5.0</td>\n",
       "      <td>94.7</td>\n",
       "      <td>58.1</td>\n",
       "      <td>90.0</td>\n",
       "      <td>38.0</td>\n",
       "      <td>72.6</td>\n",
       "      <td>52.0</td>\n",
       "      <td>15.7</td>\n",
       "      <td>28.0</td>\n",
       "      <td>34.1</td>\n",
       "    </tr>\n",
       "    <tr>\n",
       "      <th>max</th>\n",
       "      <td>104.0</td>\n",
       "      <td>7.0</td>\n",
       "      <td>9.0</td>\n",
       "      <td>103.1</td>\n",
       "      <td>68.6</td>\n",
       "      <td>96.5</td>\n",
       "      <td>43.0</td>\n",
       "      <td>77.9</td>\n",
       "      <td>56.2</td>\n",
       "      <td>17.8</td>\n",
       "      <td>32.0</td>\n",
       "      <td>40.0</td>\n",
       "    </tr>\n",
       "  </tbody>\n",
       "</table>\n",
       "</div>"
      ],
      "text/plain": [
       "        case   site    age  hdlngth  skullw  totlngth  taill  footlgth  \\\n",
       "count  104.0  104.0  104.0    104.0   104.0     104.0  104.0     104.0   \n",
       "mean    52.5    3.6    3.8     92.6    56.9      87.1   37.0      68.5   \n",
       "std     30.2    2.3    1.9      3.6     3.1       4.3    2.0       4.4   \n",
       "min      1.0    1.0    1.0     82.5    50.0      75.0   32.0      60.3   \n",
       "25%     26.8    1.0    2.8     90.7    55.0      84.0   35.9      64.6   \n",
       "50%     52.5    3.0    3.0     92.8    56.4      88.0   37.0      68.1   \n",
       "75%     78.2    6.0    5.0     94.7    58.1      90.0   38.0      72.6   \n",
       "max    104.0    7.0    9.0    103.1    68.6      96.5   43.0      77.9   \n",
       "\n",
       "       earconch    eye  chest  belly  \n",
       "count     104.0  104.0  104.0  104.0  \n",
       "mean       48.1   15.0   27.0   32.6  \n",
       "std         4.1    1.1    2.0    2.8  \n",
       "min        40.3   12.8   22.0   25.0  \n",
       "25%        44.8   14.4   25.5   31.0  \n",
       "50%        46.8   14.9   27.0   32.5  \n",
       "75%        52.0   15.7   28.0   34.1  \n",
       "max        56.2   17.8   32.0   40.0  "
      ]
     },
     "execution_count": 21,
     "metadata": {},
     "output_type": "execute_result"
    }
   ],
   "source": [
    "possium.describe().round(1)"
   ]
  },
  {
   "cell_type": "code",
   "execution_count": 22,
   "id": "2a906ac4",
   "metadata": {},
   "outputs": [
    {
     "data": {
      "text/html": [
       "<div>\n",
       "<style scoped>\n",
       "    .dataframe tbody tr th:only-of-type {\n",
       "        vertical-align: middle;\n",
       "    }\n",
       "\n",
       "    .dataframe tbody tr th {\n",
       "        vertical-align: top;\n",
       "    }\n",
       "\n",
       "    .dataframe thead th {\n",
       "        text-align: right;\n",
       "    }\n",
       "</style>\n",
       "<table border=\"1\" class=\"dataframe\">\n",
       "  <thead>\n",
       "    <tr style=\"text-align: right;\">\n",
       "      <th></th>\n",
       "      <th>count</th>\n",
       "      <th>mean</th>\n",
       "      <th>std</th>\n",
       "      <th>min</th>\n",
       "      <th>25%</th>\n",
       "      <th>50%</th>\n",
       "      <th>75%</th>\n",
       "      <th>max</th>\n",
       "    </tr>\n",
       "    <tr>\n",
       "      <th>sex</th>\n",
       "      <th></th>\n",
       "      <th></th>\n",
       "      <th></th>\n",
       "      <th></th>\n",
       "      <th></th>\n",
       "      <th></th>\n",
       "      <th></th>\n",
       "      <th></th>\n",
       "    </tr>\n",
       "  </thead>\n",
       "  <tbody>\n",
       "    <tr>\n",
       "      <th>f</th>\n",
       "      <td>43.0</td>\n",
       "      <td>92.15</td>\n",
       "      <td>2.57</td>\n",
       "      <td>84.7</td>\n",
       "      <td>90.75</td>\n",
       "      <td>92.5</td>\n",
       "      <td>93.8</td>\n",
       "      <td>96.9</td>\n",
       "    </tr>\n",
       "    <tr>\n",
       "      <th>m</th>\n",
       "      <td>61.0</td>\n",
       "      <td>92.92</td>\n",
       "      <td>4.13</td>\n",
       "      <td>82.5</td>\n",
       "      <td>90.70</td>\n",
       "      <td>93.2</td>\n",
       "      <td>95.4</td>\n",
       "      <td>103.1</td>\n",
       "    </tr>\n",
       "  </tbody>\n",
       "</table>\n",
       "</div>"
      ],
      "text/plain": [
       "     count   mean   std   min    25%   50%   75%    max\n",
       "sex                                                    \n",
       "f     43.0  92.15  2.57  84.7  90.75  92.5  93.8   96.9\n",
       "m     61.0  92.92  4.13  82.5  90.70  93.2  95.4  103.1"
      ]
     },
     "execution_count": 22,
     "metadata": {},
     "output_type": "execute_result"
    }
   ],
   "source": [
    "possium.groupby('sex')['hdlngth'].describe().round(2)"
   ]
  },
  {
   "cell_type": "code",
   "execution_count": 23,
   "id": "130aaee5",
   "metadata": {},
   "outputs": [
    {
     "name": "stdout",
     "output_type": "stream",
     "text": [
      "\n",
      " MY ANALYSIS\n",
      "\n",
      "Toal number of f gender in this data are 43\n",
      "  For Hand Length:\n",
      "    Mean: 92.15\n",
      "    Median: 92.5\n",
      "    Variance: 6.6\n",
      "    Standard Deviation: 2.6\n",
      "    Coefficient of Variation (CV): 0.03\n",
      "    Relative Spread (% of mean): 3 %\n",
      "  For Foot Length:\n",
      "    Mean: 69.3\n",
      "    Median: 70.6\n",
      "    Variance: 24.5\n",
      "    Standard Deviation: 4.9\n",
      "    Coefficient of Variation (CV): 0.07\n",
      "    Relative Spread (% of mean): 7 %\n",
      "  For Tail:\n",
      "    Mean: 37.1\n",
      "    Median: 37.5\n",
      "    Variance: 3.4\n",
      "    Standard Deviation: 1.8\n",
      "    Coefficient of Variation (CV): 0.05\n",
      "    Relative Spread (% of mean): 5 %\n",
      "\n",
      "Toal number of m gender in this data are 61\n",
      "  For Hand Length:\n",
      "    Mean: 92.92\n",
      "    Median: 93.2\n",
      "    Variance: 17.0\n",
      "    Standard Deviation: 4.1\n",
      "    Coefficient of Variation (CV): 0.04\n",
      "    Relative Spread (% of mean): 4 %\n",
      "  For Foot Length:\n",
      "    Mean: 68.0\n",
      "    Median: 66.9\n",
      "    Variance: 15.9\n",
      "    Standard Deviation: 4.0\n",
      "    Coefficient of Variation (CV): 0.06\n",
      "    Relative Spread (% of mean): 6 %\n",
      "  For Tail:\n",
      "    Mean: 36.9\n",
      "    Median: 36.5\n",
      "    Variance: 4.2\n",
      "    Standard Deviation: 2.1\n",
      "    Coefficient of Variation (CV): 0.06\n",
      "    Relative Spread (% of mean): 6 %\n"
     ]
    }
   ],
   "source": [
    "\n",
    "print(\"\\n MY ANALYSIS\")\n",
    "for gender in ['f', 'm']:\n",
    "    gender_data = possium[possium['sex'] == gender]\n",
    "\n",
    "    print(f\"\\nToal number of {gender} gender in this data are {len(gender_data)}\")\n",
    "\n",
    "    print(\"  For Hand Length:\")\n",
    "    print(f\"    Mean: {gender_data['hdlngth'].mean().round(2)}\")\n",
    "    print(f\"    Median: {gender_data['hdlngth'].median():.1f}\")\n",
    "    print(f\"    Variance: {gender_data['hdlngth'].var():.1f}\")\n",
    "    print(f\"    Standard Deviation: {gender_data['hdlngth'].std():.1f}\")\n",
    "\n",
    "    cv = gender_data['hdlngth'].std() / gender_data['hdlngth'].mean()\n",
    "    cv_percent= cv *100\n",
    "    print(\"    Coefficient of Variation (CV):\", cv.round(2))\n",
    "    print(\"    Relative Spread (% of mean):\", round(cv_percent),\"%\")\n",
    "\n",
    "\n",
    "    print(\"  For Foot Length:\")\n",
    "    print(f\"    Mean: {gender_data['footlgth'].mean():.1f}\")\n",
    "    print(f\"    Median: {gender_data['footlgth'].median():.1f}\")\n",
    "    print(f\"    Variance: {gender_data['footlgth'].var():.1f}\")\n",
    "    print(f\"    Standard Deviation: {gender_data['footlgth'].std():.1f}\")\n",
    "    cv = gender_data['footlgth'].std() / gender_data['footlgth'].mean()\n",
    "    cv_percent= cv *100\n",
    "    print(\"    Coefficient of Variation (CV):\", cv.round(2))\n",
    "    print(\"    Relative Spread (% of mean):\", round(cv_percent),\"%\")\n",
    "  \n",
    "\n",
    "       \n",
    "    print(\"  For Tail:\")\n",
    "    print(f\"    Mean: {gender_data['taill'].mean():.1f}\")\n",
    "    print(f\"    Median: {gender_data['taill'].median():.1f}\")\n",
    "    print(f\"    Variance: {gender_data['taill'].var():.1f}\")\n",
    "    print(f\"    Standard Deviation: {gender_data['taill'].std():.1f}\")\n",
    "    cv = gender_data['taill'].std() / gender_data['taill'].mean()\n",
    "    cv_percent= cv *100\n",
    "    print(\"    Coefficient of Variation (CV):\", cv.round(2))\n",
    "    print(\"    Relative Spread (% of mean):\", round(cv_percent),\"%\")\n",
    "    \n",
    "\n",
    "    "
   ]
  },
  {
   "cell_type": "markdown",
   "id": "ad5c15bc",
   "metadata": {},
   "source": [
    "**FOR HEAD LENGTH**\n",
    "\n",
    "| Metric      | FEMALE | MALE |\n",
    "|-------------|--------|-------------|\n",
    "| **Average** | 92.15 mm| 92.92 mm| \n",
    "| **Median**  | 92.5  mm| 93.2  mm| \n",
    "| **Variance**| 6.6   mm| 1.7  mm | \n",
    "| **Standard Deviation** | 2.6   mm|  4.1  mm| \n",
    "| **Co-efficient of Variation**| 0.03   | 0.04 | \n",
    "| **Relative Spread** | 3%  |  4%| \n",
    "\n"
   ]
  },
  {
   "cell_type": "markdown",
   "id": "ad64794b",
   "metadata": {},
   "source": [
    "**FOR FOOT LENGTH**\n",
    "\n",
    "| Metric      | FEMALE | MALE | \n",
    "|-------------|-------------|----------|\n",
    "| **Average** | 69.1 mm| 68.0 mm||\n",
    "| **Median**  | 70.4 mm| 66.9 mm||\n",
    "| **Variance**| 24.5 mm| 15.9 mm||\n",
    "| **Std Dev** | 4.9  mm|  4.0 mm||\n",
    "| **Co-efficient of Variation**| 0.07   | 0.06 | \n",
    "| **Relative Spread** | 7%  |  6%|"
   ]
  },
  {
   "cell_type": "markdown",
   "id": "1f6d9e7b",
   "metadata": {},
   "source": [
    "**FOR TAIL**\n",
    "\n",
    "| Metric      | FEMALE | MALE |      \n",
    "|-------------|-------------|-------------|\n",
    "| **Average** | 37.1 cm| 36.9 cm||\n",
    "| **Median**  | 37.5 cm| 36.5 cm||\n",
    "| **Variance**| 3.4 cm| 4.2 cm||\n",
    "| **Std Dev** | 1.8  cm|  2.1 cm||\n",
    "| **Co-efficient of Variation**| 0.05   | 0.06 | \n",
    "| **Relative Spread** | 5%  |  6%|"
   ]
  },
  {
   "cell_type": "markdown",
   "id": "6e185ac1",
   "metadata": {},
   "source": [
    "#### **percentiles, interquartile range (IQR), and outlier detection**"
   ]
  },
  {
   "cell_type": "code",
   "execution_count": 36,
   "id": "2939317f",
   "metadata": {},
   "outputs": [
    {
     "name": "stdout",
     "output_type": "stream",
     "text": [
      "Q1 - 90.675\n",
      "Q2 - 92.8\n",
      "Q3 - 94.725\n"
     ]
    }
   ],
   "source": [
    "### Head Length Percentile \n",
    "head_length_values = possium['hdlngth'].values\n",
    "\n",
    "# Quartiles using Quantile\n",
    "q1_hdlngth= np.quantile(head_length_values, 0.25)\n",
    "q2_hdlngth = np.quantile(head_length_values, 0.50)\n",
    "q3_hdlngth = np.quantile(head_length_values, 0.75)\n",
    "\n",
    "print(f\"Q1 - {q1_hdlngth}\")\n",
    "print(f\"Q2 - {q2_hdlngth}\")\n",
    "print(f\"Q3 - {q3_hdlngth}\")"
   ]
  },
  {
   "cell_type": "code",
   "execution_count": 44,
   "id": "5a59960e",
   "metadata": {},
   "outputs": [
    {
     "name": "stdout",
     "output_type": "stream",
     "text": [
      "Q1 - 64.65\n",
      "Q2 - 68.1\n",
      "Q3 - 72.55\n"
     ]
    }
   ],
   "source": [
    "### Foot Length Percentile \n",
    "foot_length_values = possium['footlgth'].values\n",
    "\n",
    "# Quartiles using Quantile\n",
    "q1_ftlngth = np.quantile(foot_length_values, 0.25)\n",
    "q2_ftlngth= np.quantile(foot_length_values, 0.50)\n",
    "q3_ftlngth = np.quantile(foot_length_values, 0.75)\n",
    "\n",
    "print(f\"Q1 - {q1_ftlngth}\")\n",
    "print(f\"Q2 - {q2_ftlngth}\")\n",
    "print(f\"Q3 - {q3_ftlngth}\")"
   ]
  },
  {
   "cell_type": "code",
   "execution_count": 26,
   "id": "98cf9519",
   "metadata": {},
   "outputs": [
    {
     "name": "stdout",
     "output_type": "stream",
     "text": [
      "Q1 - 35.875\n",
      "Q2 - 37.0\n",
      "Q3 - 38.0\n"
     ]
    }
   ],
   "source": [
    "### Tail Percentile \n",
    "tail_values = possium['taill'].values\n",
    "\n",
    "# Quartiles using Quantile\n",
    "q1 = np.quantile(tail_values, 0.25)\n",
    "q2 = np.quantile(tail_values, 0.50)\n",
    "q3 = np.quantile(tail_values, 0.75)\n",
    "\n",
    "print(f\"Q1 - {q1}\")\n",
    "print(f\"Q2 - {q2}\")\n",
    "print(f\"Q3 - {q3}\")"
   ]
  },
  {
   "cell_type": "markdown",
   "id": "c22c6a8c",
   "metadata": {},
   "source": [
    "#### Interquartile Range\n"
   ]
  },
  {
   "cell_type": "code",
   "execution_count": 46,
   "id": "c0396e6b",
   "metadata": {},
   "outputs": [
    {
     "name": "stdout",
     "output_type": "stream",
     "text": [
      "IQR(Tail) - 2.125\n",
      "Lower Bound(Tail) - 32.6875\n",
      "Upper Bound(Tail) - 41.1875\n"
     ]
    }
   ],
   "source": [
    "## Interquartile Range (IQR) for Tail\n",
    "\n",
    "iqr = q3 - q1\n",
    "print(f\"IQR(Tail) - {iqr}\")\n",
    "\n",
    "# Outlier thresholds (Tukey’s rule)\n",
    "lower_bound = q1 - 1.5 * iqr\n",
    "upper_bound = q3 + 1.5 * iqr\n",
    "\n",
    "print(f\"Lower Bound(Tail) - {lower_bound}\")\n",
    "print(f\"Upper Bound(Tail) - {upper_bound}\")"
   ]
  },
  {
   "cell_type": "code",
   "execution_count": 38,
   "id": "4d4b441b",
   "metadata": {},
   "outputs": [
    {
     "name": "stdout",
     "output_type": "stream",
     "text": [
      "IQR(Head  Length) - 4.049999999999997\n",
      "Lower Bound(Head Length) - 84.6\n",
      "Upper Bound(Head Length) - 100.79999999999998\n"
     ]
    }
   ],
   "source": [
    "## Interquartile Range (IQR) for Head Length\n",
    "\n",
    "iqr = q3_hdlngth - q1_hdlngth\n",
    "print(f\"IQR(Head  Length) - {iqr}\")\n",
    "\n",
    "# Outlier thresholds (Tukey’s rule)\n",
    "lower_bound_hdlngth = q1_hdlngth - 1.5 * iqr\n",
    "upper_bound_hdlngth = q3_hdlngth + 1.5 * iqr\n",
    "\n",
    "print(f\"Lower Bound(Head Length) - {lower_bound_hdlngth}\")\n",
    "print(f\"Upper Bound(Head Length) - {upper_bound_hdlngth}\")"
   ]
  },
  {
   "cell_type": "code",
   "execution_count": 45,
   "id": "5411e40e",
   "metadata": {},
   "outputs": [
    {
     "name": "stdout",
     "output_type": "stream",
     "text": [
      "IQR(Foot Length) - 7.8999999999999915\n",
      "Lower Bound(Foot Length) - 52.80000000000002\n",
      "Upper Bound(Foot Length) - 84.39999999999998\n"
     ]
    }
   ],
   "source": [
    "## Interquartile Range (IQR) for Foot Length\n",
    "\n",
    "iqr = q3_ftlngth - q1_ftlngth\n",
    "print(f\"IQR(Foot Length) - {iqr}\")\n",
    "\n",
    "# Outlier thresholds (Tukey’s rule)\n",
    "lower_bound_ftlngth = q1_ftlngth - 1.5 * iqr\n",
    "upper_bound_ftlngth = q3_ftlngth + 1.5 * iqr\n",
    "\n",
    "print(f\"Lower Bound(Foot Length) - {lower_bound_ftlngth}\")\n",
    "print(f\"Upper Bound(Foot Length) - {upper_bound_ftlngth}\")"
   ]
  },
  {
   "cell_type": "code",
   "execution_count": 32,
   "id": "64ba0945",
   "metadata": {},
   "outputs": [
    {
     "name": "stdout",
     "output_type": "stream",
     "text": [
      "List of outlier scores(Tail) --> [32.  32.  43.  41.5]\n"
     ]
    }
   ],
   "source": [
    "# Detect outliers\n",
    "outliers = tail_values[(tail_values < lower_bound) | (tail_values > upper_bound)]\n",
    "print(f\"List of outlier scores(Tail) --> {outliers}\")"
   ]
  },
  {
   "cell_type": "code",
   "execution_count": 42,
   "id": "155018f2",
   "metadata": {},
   "outputs": [
    {
     "name": "stdout",
     "output_type": "stream",
     "text": [
      "List of outlier scores(Head Length) --> [103.1 102.5  82.5]\n"
     ]
    }
   ],
   "source": [
    "# Detect outliers\n",
    "outliers = head_length_values[(head_length_values < lower_bound_hdlngth) | (head_length_values > upper_bound_hdlngth)]\n",
    "print(f\"List of outlier scores(Head Length) --> {outliers}\")"
   ]
  },
  {
   "cell_type": "code",
   "execution_count": 43,
   "id": "6dca6be7",
   "metadata": {},
   "outputs": [
    {
     "name": "stdout",
     "output_type": "stream",
     "text": [
      "List of outlier scores(foot length) --> []\n"
     ]
    }
   ],
   "source": [
    "# Detect outliers\n",
    "outliers = foot_length_values[(foot_length_values < lower_bound_ftlngth) | (foot_length_values > upper_bound_ftlngth)]\n",
    "print(f\"List of outlier scores(foot length) --> {outliers}\")"
   ]
  }
 ],
 "metadata": {
  "kernelspec": {
   "display_name": "Python 3",
   "language": "python",
   "name": "python3"
  },
  "language_info": {
   "codemirror_mode": {
    "name": "ipython",
    "version": 3
   },
   "file_extension": ".py",
   "mimetype": "text/x-python",
   "name": "python",
   "nbconvert_exporter": "python",
   "pygments_lexer": "ipython3",
   "version": "3.13.6"
  }
 },
 "nbformat": 4,
 "nbformat_minor": 5
}
