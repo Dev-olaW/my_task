{
 "cells": [
  {
   "cell_type": "markdown",
   "id": "73c95455",
   "metadata": {},
   "source": [
    "### Student Performance Analysis with Linear Algebra"
   ]
  },
  {
   "cell_type": "code",
   "execution_count": 1,
   "id": "283c940a",
   "metadata": {},
   "outputs": [],
   "source": [
    "import numpy as np"
   ]
  },
  {
   "cell_type": "code",
   "execution_count": 2,
   "id": "8965ed25",
   "metadata": {},
   "outputs": [
    {
     "name": "stdout",
     "output_type": "stream",
     "text": [
      "Scores (4x3)=\n",
      " [[80 70 90]\n",
      " [60 85 75]\n",
      " [95 88 92]\n",
      " [70 60 65]]\n"
     ]
    }
   ],
   "source": [
    "# The Matrices for each Student\n",
    "student_1 = np.array([80, 70, 90])\n",
    "student_2 = np.array([60, 85, 75])\n",
    "student_3 = np.array([95, 88, 92])\n",
    "student_4 = np.array([70, 60, 65])\n",
    "\n",
    "\n",
    "\n",
    "Student_matrix = np.array([[80, 70, 90],\n",
    "                           [60, 85, 75],\n",
    "                           [95, 88, 92],\n",
    "                           [70, 60, 65]])\n",
    "\n",
    "print(\"Scores (4x3)=\\n\", Student_matrix)"
   ]
  },
  {
   "cell_type": "markdown",
   "id": "9034e38a",
   "metadata": {},
   "source": [
    "#### Total Scores per Student (Vector Addition)\n",
    "\n",
    "\n",
    "\n",
    "student 1 = [80 + 70 + 90] = 240<br>\n",
    "student 2 = [60 + 85 + 75] = 220<br>\n",
    "student 3 = [95 + 88 + 92] = 275<br>\n",
    "student 4 = [70 + 60 + 65] = 195"
   ]
  },
  {
   "cell_type": "code",
   "execution_count": 3,
   "id": "0470467e",
   "metadata": {},
   "outputs": [
    {
     "name": "stdout",
     "output_type": "stream",
     "text": [
      "[240 220 275 195]\n",
      "Total Scores for Student 1 = 240\n",
      "Total Scores for Student 2 = 220\n",
      "Total Scores for Student 3 = 275\n",
      "Total Scores for Student 4 = 195\n"
     ]
    }
   ],
   "source": [
    "scores_per_student = np.sum(Student_matrix, axis=1)\n",
    "print(scores_per_student)\n",
    "\n",
    "i = 1\n",
    "for student_score in scores_per_student:\n",
    "    print(f\"Total Scores for Student {i} = {student_score}\")\n",
    "    i+=1"
   ]
  },
  {
   "cell_type": "markdown",
   "id": "e0bd8a75",
   "metadata": {},
   "source": [
    "#### Applying Weights (Scaler Multiplication)"
   ]
  },
  {
   "cell_type": "code",
   "execution_count": 4,
   "id": "998b3805",
   "metadata": {},
   "outputs": [
    {
     "name": "stdout",
     "output_type": "stream",
     "text": [
      "Subject Weight =\n",
      " [[160  70  90]\n",
      " [120  85  75]\n",
      " [190  88  92]\n",
      " [140  60  65]]\n"
     ]
    }
   ],
   "source": [
    "Student_matrix[:, 0] = 2 *(Student_matrix[:, 0])\n",
    "print(\"Subject Weight =\\n\", Student_matrix)\n",
    "\n",
    "\n",
    "# print(Student_matrix)"
   ]
  },
  {
   "cell_type": "markdown",
   "id": "89990208",
   "metadata": {},
   "source": [
    "### Average score by each subject"
   ]
  },
  {
   "cell_type": "code",
   "execution_count": 5,
   "id": "18af00aa",
   "metadata": {},
   "outputs": [
    {
     "name": "stdout",
     "output_type": "stream",
     "text": [
      "[152.5   75.75  80.5 ]\n",
      "Average score for Maths = 152.5\n",
      "Average score for English = 75.75\n",
      "Average score for Science = 80.5\n"
     ]
    }
   ],
   "source": [
    "average_score_per_subject = np.average(Student_matrix, axis = 0)\n",
    "print(average_score_per_subject)\n",
    "i = [\"Maths\", \"English\", \"Science\"]\n",
    "\n",
    "for wale, average_score in zip(i, average_score_per_subject):\n",
    "    print(f\"Average score for {wale} = {average_score}\")\n",
    "\n"
   ]
  },
  {
   "cell_type": "markdown",
   "id": "59481df4",
   "metadata": {},
   "source": [
    "### Final Grades using Matrix Multiplication\n"
   ]
  },
  {
   "cell_type": "code",
   "execution_count": 6,
   "id": "b87188d5",
   "metadata": {},
   "outputs": [
    {
     "name": "stdout",
     "output_type": "stream",
     "text": [
      "Mathematics Final Grade:\n",
      " [[80.]\n",
      " [60.]\n",
      " [95.]\n",
      " [70.]]\n",
      "English Final Grade:\n",
      " [[21. ]\n",
      " [25.5]\n",
      " [26.4]\n",
      " [18. ]]\n",
      "Science Final Grade:\n",
      " [[18. ]\n",
      " [15. ]\n",
      " [18.4]\n",
      " [13. ]]\n"
     ]
    }
   ],
   "source": [
    "weight_vector = np.array([0.5, 0.3, 0.2])\n",
    "\n",
    "maths_final_grade = np.dot(weight_vector[0], Student_matrix[:,0])\n",
    "print(\"Mathematics Final Grade:\\n\", maths_final_grade.reshape(4,1))\n",
    "\n",
    "\n",
    "english_final_grade = np.dot(weight_vector[1], Student_matrix[:,1])\n",
    "print(\"English Final Grade:\\n\", english_final_grade.reshape(4,1))\n",
    "\n",
    "\n",
    "science_final_grade = np.dot(weight_vector[2], Student_matrix[:,2])\n",
    "print(\"Science Final Grade:\\n\", science_final_grade.reshape(4,1))"
   ]
  },
  {
   "cell_type": "markdown",
   "id": "3ce5e905",
   "metadata": {},
   "source": [
    "### Comparing Students(Vector Subtraction)"
   ]
  },
  {
   "cell_type": "code",
   "execution_count": 7,
   "id": "dbb99354",
   "metadata": {},
   "outputs": [
    {
     "name": "stdout",
     "output_type": "stream",
     "text": [
      "[-20  55 -80]\n",
      "Overall, student 3 is the most brilliant with the highest grade difference 55 35 and 80\n"
     ]
    }
   ],
   "source": [
    "comppare_student = np.diff(scores_per_student)\n",
    "print(comppare_student)\n",
    "\n",
    "performance1 = scores_per_student[2] - scores_per_student[1]\n",
    "performance2 = scores_per_student[2] -scores_per_student[0]\n",
    "performance3 = scores_per_student[2] - scores_per_student[3]\n",
    "\n",
    "print(\"Overall, student 3 is the most brilliant with the highest grade difference\",performance1, performance2, 'and', performance3)\n",
    " "
   ]
  },
  {
   "cell_type": "markdown",
   "id": "17dee8fd",
   "metadata": {},
   "source": [
    "### ADD-ON EXERCISES\n"
   ]
  },
  {
   "cell_type": "markdown",
   "id": "a04a752d",
   "metadata": {},
   "source": [
    "##### QUESTION ONE\n",
    "$$\n",
    "Scores = \\begin{bmatrix}\n",
    "80 & 70 & 90 & 50 \\\\\n",
    "60 & 85 & 75 & 60 \\\\\n",
    "95 & 88 & 92 & 70 \\\\\n",
    "70 & 60 & 65 & 80 \\\\\n",
    "70 & 55 & 75 & 60\n",
    "\\end{bmatrix}\n"
   ]
  },
  {
   "cell_type": "code",
   "execution_count": 8,
   "id": "256e9388",
   "metadata": {},
   "outputs": [
    {
     "name": "stdout",
     "output_type": "stream",
     "text": [
      "[[80 70 90 50]\n",
      " [60 85 75 60]\n",
      " [95 88 92 70]\n",
      " [70 60 65 80]\n",
      " [70 55 75 60]]\n"
     ]
    }
   ],
   "source": [
    "scores = np.array([[80,70,90,50],[60,85,75,60],[95,88,92,70],[70,60,65,80],[70,55,75,60]])\n",
    "\n",
    "\n",
    "student1_scores = np.array([80,70,90,50])\n",
    "student2_scores = np.array([60,85,75,60])\n",
    "student3_scores = np.array([95,88,92,70])\n",
    "student4_scores = np.array([70,60,65,80])\n",
    "student5_scores = np.array([70,55,75,60])\n",
    "print(scores)"
   ]
  },
  {
   "cell_type": "markdown",
   "id": "917f6256",
   "metadata": {},
   "source": [
    "#### Total Score and Average per subject"
   ]
  },
  {
   "cell_type": "code",
   "execution_count": 9,
   "id": "6e0d9f89",
   "metadata": {},
   "outputs": [
    {
     "name": "stdout",
     "output_type": "stream",
     "text": [
      "Student total scores [290 280 345 275 260]\n",
      "Total score for Student 1 = 290\n",
      "Total score for Student 2 = 280\n",
      "Total score for Student 3 = 345\n",
      "Total score for Student 4 = 275\n",
      "Total score for Student 5 = 260\n",
      "Average per subject = [75.  71.6 79.4 64. ]\n",
      "Average Score in Math = 75.0\n",
      "Average Score in English = 71.6\n",
      "Average Score in Science = 79.4\n",
      "Average Score in AI = 64.0\n"
     ]
    }
   ],
   "source": [
    "total_score = np.sum(scores, axis = 1)\n",
    "print (\"Student total scores\", total_score)\n",
    "\n",
    "i = 1\n",
    "for stu_total_scores in total_score:\n",
    "    print(f\"Total score for Student {i} = {stu_total_scores}\")\n",
    "    i += 1\n",
    "\n",
    "avg_score = np.average(scores, axis = 0)\n",
    "print(\"Average per subject =\", avg_score)\n",
    "j = [\"Math\", \"English\", \"Science\", \"AI\"]\n",
    "     \n",
    "for average, avg_per_subject in zip(j,avg_score):\n",
    "     print(f\"Average Score in {average} = {avg_per_subject}\")"
   ]
  },
  {
   "cell_type": "markdown",
   "id": "10db4399",
   "metadata": {},
   "source": [
    "#### QUESTION TWO"
   ]
  },
  {
   "cell_type": "code",
   "execution_count": 10,
   "id": "5023ed72",
   "metadata": {},
   "outputs": [
    {
     "name": "stdout",
     "output_type": "stream",
     "text": [
      "Scaler Weight for Science=\n",
      " [270 225 276 195 225]\n",
      "Scores Total =\n",
      " [[ 80  70 270  50]\n",
      " [ 60  85 225  60]\n",
      " [ 95  88 276  70]\n",
      " [ 70  60 195  80]\n",
      " [ 70  55 225  60]]\n"
     ]
    }
   ],
   "source": [
    "science_scaler = 3 *(scores[:, 2])\n",
    "print(\"Scaler Weight for Science=\\n\", science_scaler)\n",
    "\n",
    "scores[:, 2] = 3 *(scores[:, 2])\n",
    "print(\"Scores Total =\\n\", scores)"
   ]
  },
  {
   "cell_type": "markdown",
   "id": "48bb1d39",
   "metadata": {},
   "source": [
    "###  QUESTION THREE"
   ]
  },
  {
   "cell_type": "code",
   "execution_count": 11,
   "id": "2a6d1ed9",
   "metadata": {},
   "outputs": [
    {
     "name": "stdout",
     "output_type": "stream",
     "text": [
      "Final Grade for Mathematics:\n",
      " [[32.]\n",
      " [24.]\n",
      " [38.]\n",
      " [28.]\n",
      " [28.]]\n",
      "Final Grade for English:\n",
      " [[14. ]\n",
      " [17. ]\n",
      " [17.6]\n",
      " [12. ]\n",
      " [11. ]]\n",
      "Final Grade for Science:\n",
      " [[81. ]\n",
      " [67.5]\n",
      " [82.8]\n",
      " [58.5]\n",
      " [67.5]]\n",
      "Final Grade for AI:\n",
      " [[5.]\n",
      " [6.]\n",
      " [7.]\n",
      " [8.]\n",
      " [6.]]\n"
     ]
    }
   ],
   "source": [
    "new_weight = np.array([0.4, 0.2, 0.3, 0.1])\n",
    "\n",
    "grade_for_math = np.dot(new_weight[0], scores[:,0])\n",
    "print(\"Final Grade for Mathematics:\\n\", grade_for_math.reshape(5,1))\n",
    "\n",
    "\n",
    "grade_for_eng = np.dot(new_weight[1], scores[:,1])\n",
    "print(\"Final Grade for English:\\n\", grade_for_eng.reshape(5,1))\n",
    "\n",
    "\n",
    "grade_for_science = np.dot(new_weight[2], scores[:,2])\n",
    "print(\"Final Grade for Science:\\n\", grade_for_science.reshape(5,1))\n",
    "\n",
    "\n",
    "grade_for_ai = np.dot(new_weight[3], scores[:,3])\n",
    "print(\"Final Grade for AI:\\n\", grade_for_ai.reshape(5,1))"
   ]
  }
 ],
 "metadata": {
  "kernelspec": {
   "display_name": "Python 3",
   "language": "python",
   "name": "python3"
  },
  "language_info": {
   "codemirror_mode": {
    "name": "ipython",
    "version": 3
   },
   "file_extension": ".py",
   "mimetype": "text/x-python",
   "name": "python",
   "nbconvert_exporter": "python",
   "pygments_lexer": "ipython3",
   "version": "3.13.7"
  }
 },
 "nbformat": 4,
 "nbformat_minor": 5
}
